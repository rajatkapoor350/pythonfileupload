{
 "cells": [
  {
   "cell_type": "code",
   "execution_count": 1,
   "id": "44ba4fdb",
   "metadata": {},
   "outputs": [
    {
     "name": "stderr",
     "output_type": "stream",
     "text": [
      "C:\\Users\\rajat.kapoor\\AppData\\Local\\Temp\\ipykernel_32004\\1891192453.py:3: DtypeWarning: Columns (2,15,17,19,20,21,22,30,31) have mixed types. Specify dtype option on import or set low_memory=False.\n",
      "  PhoneCall = pd.read_csv(\"C:\\\\Users\\\\rajat.kapoor\\\\OneDrive - RattanIndia Power Limited\\\\Desktop\\\\All LSQ Data\\\\PhoneCallActivity.csv\")\n"
     ]
    }
   ],
   "source": [
    "import pandas as pd\n",
    "\n",
    "PhoneCall = pd.read_csv(\"C:\\\\Users\\\\rajat.kapoor\\\\OneDrive - RattanIndia Power Limited\\\\Desktop\\\\All LSQ Data\\\\PhoneCallActivity.csv\")\n",
    "\n",
    "PhoneCall['Activity Date'] = pd.to_datetime(PhoneCall['Activity Date'], errors='coerce').dt.strftime('%m/%d/%Y %I:%M:%S %p')\n",
    "\n",
    "PhoneCall = PhoneCall[['Opportunity Id','Activity Event Name','Activity Date','Call Status','Call Outcome','Drop Out Reason','Owner (User Name)']]"
   ]
  },
  {
   "cell_type": "code",
   "execution_count": 2,
   "id": "d547a4cc",
   "metadata": {},
   "outputs": [
    {
     "name": "stderr",
     "output_type": "stream",
     "text": [
      "C:\\Users\\rajat.kapoor\\AppData\\Local\\Temp\\ipykernel_32004\\2065059340.py:1: DtypeWarning: Columns (2,15,18,25,27,28,29,31,32,33,34,35) have mixed types. Specify dtype option on import or set low_memory=False.\n",
      "  BookingPhoneCall = pd.read_csv(\"C:\\\\Users\\\\rajat.kapoor\\\\OneDrive - RattanIndia Power Limited\\\\Desktop\\\\All LSQ Data\\\\BookingPhoneCallActivity.csv\")\n"
     ]
    }
   ],
   "source": [
    "BookingPhoneCall = pd.read_csv(\"C:\\\\Users\\\\rajat.kapoor\\\\OneDrive - RattanIndia Power Limited\\\\Desktop\\\\All LSQ Data\\\\BookingPhoneCallActivity.csv\")\n",
    "\n",
    "BookingPhoneCall['Activity Date'] = pd.to_datetime(BookingPhoneCall['Activity Date'], errors='coerce').dt.strftime('%m/%d/%Y %I:%M:%S %p')\n",
    "\n",
    "BookingPhoneCall = BookingPhoneCall[['Opportunity Id', 'Activity Event Name','Activity Date', 'Call Status','Booking Status', 'Drop Out Reason','Owner (User Name)']]"
   ]
  },
  {
   "cell_type": "code",
   "execution_count": 3,
   "id": "794a0420",
   "metadata": {},
   "outputs": [],
   "source": [
    "RetailPhoneCall = pd.read_csv(\"C:\\\\Users\\\\rajat.kapoor\\\\OneDrive - RattanIndia Power Limited\\\\Desktop\\\\All LSQ Data\\\\RetailPhoneCallActivity.csv\")\n",
    "\n",
    "RetailPhoneCall['Activity Date'] = pd.to_datetime(RetailPhoneCall['Activity Date'], errors='coerce').dt.strftime('%m/%d/%Y %I:%M:%S %p')\n",
    "\n",
    "RetailPhoneCall = RetailPhoneCall[['Opportunity Id','Activity Event Name','Activity Date','Call Status','Retail Status','Drop Out Reason','Owner (User Name)' ]]"
   ]
  },
  {
   "cell_type": "code",
   "execution_count": 4,
   "id": "777a936e",
   "metadata": {},
   "outputs": [
    {
     "name": "stderr",
     "output_type": "stream",
     "text": [
      "C:\\Users\\rajat.kapoor\\AppData\\Local\\Temp\\ipykernel_32004\\1459494105.py:1: DtypeWarning: Columns (2,9,11,12,13,21,30,36) have mixed types. Specify dtype option on import or set low_memory=False.\n",
      "  TestRidePhoneCall = pd.read_csv(\"C:\\\\Users\\\\rajat.kapoor\\\\OneDrive - RattanIndia Power Limited\\\\Desktop\\\\All LSQ Data\\\\TestRidePhoneCallActivity.csv\")\n"
     ]
    }
   ],
   "source": [
    "TestRidePhoneCall = pd.read_csv(\"C:\\\\Users\\\\rajat.kapoor\\\\OneDrive - RattanIndia Power Limited\\\\Desktop\\\\All LSQ Data\\\\TestRidePhoneCallActivity.csv\")\n",
    "\n",
    "TestRidePhoneCall['Activity Date'] = pd.to_datetime(TestRidePhoneCall['Activity Date'], errors='coerce').dt.strftime('%m/%d/%Y %I:%M:%S %p')\n",
    "\n",
    "TestRidePhoneCall = TestRidePhoneCall[['Opportunity Id','Activity Event Name','Activity Date','Call Status','Test Ride Status','Drop Out Reason','Owner (User Name)' ]]"
   ]
  },
  {
   "cell_type": "code",
   "execution_count": 5,
   "id": "c37e1a18",
   "metadata": {},
   "outputs": [],
   "source": [
    "DeliveryPhoneCall = pd.read_csv(\"C:\\\\Users\\\\rajat.kapoor\\\\OneDrive - RattanIndia Power Limited\\\\Desktop\\\\All LSQ Data\\\\DeliveryPhoneCallActivity.csv\")\n",
    "\n",
    "DeliveryPhoneCall['Activity Date'] = pd.to_datetime(DeliveryPhoneCall['Activity Date'], errors='coerce').dt.strftime('%m/%d/%Y %I:%M:%S %p')\n",
    "\n",
    "DeliveryPhoneCall = DeliveryPhoneCall[['Opportunity Id','Activity Event Name','Activity Date','Delivery Status','Drop Out Reason','Owner (User Name)']]"
   ]
  },
  {
   "cell_type": "code",
   "execution_count": 6,
   "id": "608ba6e8",
   "metadata": {},
   "outputs": [],
   "source": [
    "FinPhoneCall = pd.read_csv(\"C:\\\\Users\\\\rajat.kapoor\\\\OneDrive - RattanIndia Power Limited\\\\Desktop\\\\All LSQ Data\\\\FinPhoneCallActivity.csv\")\n",
    "\n",
    "FinPhoneCall['Activity Date'] = pd.to_datetime(FinPhoneCall['Activity Date'], errors='coerce').dt.strftime('%m/%d/%Y %I:%M:%S %p')\n",
    "\n",
    "FinPhoneCall = FinPhoneCall[['Opportunity Id','Activity Event Name','Activity Date','Call Status','Call Outcome','Owner (User Name)']]"
   ]
  },
  {
   "cell_type": "code",
   "execution_count": 7,
   "id": "b2a9729a",
   "metadata": {},
   "outputs": [
    {
     "name": "stderr",
     "output_type": "stream",
     "text": [
      "C:\\Users\\rajat.kapoor\\AppData\\Local\\Temp\\ipykernel_32004\\784755738.py:1: DtypeWarning: Columns (2) have mixed types. Specify dtype option on import or set low_memory=False.\n",
      "  CogentPhoneCall = pd.read_csv(\"C:\\\\Users\\\\rajat.kapoor\\\\OneDrive - RattanIndia Power Limited\\\\Desktop\\\\All LSQ Data\\\\CogentPhoneCallActivity.csv\")\n"
     ]
    }
   ],
   "source": [
    "CogentPhoneCall = pd.read_csv(\"C:\\\\Users\\\\rajat.kapoor\\\\OneDrive - RattanIndia Power Limited\\\\Desktop\\\\All LSQ Data\\\\CogentPhoneCallActivity.csv\")\n",
    "\n",
    "CogentPhoneCall['Activity Date'] = pd.to_datetime(CogentPhoneCall['Activity Date'], errors='coerce').dt.strftime('%m/%d/%Y %I:%M:%S %p')\n",
    "\n",
    "CogentPhoneCall = CogentPhoneCall[['Opportunity Id','Activity Event Name','Activity Date','Call Status','Call Outcome','Drop Out Reason','Owner (User Name)']]"
   ]
  },
  {
   "cell_type": "code",
   "execution_count": 8,
   "id": "d678797f",
   "metadata": {},
   "outputs": [],
   "source": [
    "import pandas as pd\n",
    "\n",
    "Oppid = pd.concat([BookingPhoneCall['Opportunity Id'],CogentPhoneCall['Opportunity Id'], DeliveryPhoneCall['Opportunity Id'], FinPhoneCall['Opportunity Id'], PhoneCall['Opportunity Id'], TestRidePhoneCall['Opportunity Id'], RetailPhoneCall['Opportunity Id']], ignore_index=True)"
   ]
  },
  {
   "cell_type": "code",
   "execution_count": 9,
   "id": "a5810691",
   "metadata": {},
   "outputs": [],
   "source": [
    "ActivityEventName = pd.concat([BookingPhoneCall['Activity Event Name'],CogentPhoneCall['Activity Event Name'],DeliveryPhoneCall['Activity Event Name'],FinPhoneCall['Activity Event Name'],PhoneCall['Activity Event Name'],TestRidePhoneCall['Activity Event Name'],RetailPhoneCall['Activity Event Name']], ignore_index=False)"
   ]
  },
  {
   "cell_type": "code",
   "execution_count": 10,
   "id": "11ca37c2",
   "metadata": {},
   "outputs": [],
   "source": [
    "ActivityDate = pd.concat([BookingPhoneCall['Activity Date'],CogentPhoneCall['Activity Date'],DeliveryPhoneCall['Activity Date'],FinPhoneCall['Activity Date'],PhoneCall['Activity Date'],TestRidePhoneCall['Activity Date'],RetailPhoneCall['Activity Date']], ignore_index=False)"
   ]
  },
  {
   "cell_type": "code",
   "execution_count": 11,
   "id": "4d5f6a09",
   "metadata": {},
   "outputs": [],
   "source": [
    "DeliveryPhoneCall.insert(loc=1, column='Call Status', value=None)\n",
    "\n",
    "CallStatus = pd.concat([BookingPhoneCall['Call Status'],CogentPhoneCall['Call Status'],DeliveryPhoneCall['Call Status'],FinPhoneCall['Call Status'],PhoneCall['Call Status'],TestRidePhoneCall['Call Status'],RetailPhoneCall['Call Status']], ignore_index=False)"
   ]
  },
  {
   "cell_type": "code",
   "execution_count": 12,
   "id": "677fa2cb",
   "metadata": {},
   "outputs": [],
   "source": [
    "CallOutcome = pd.concat([BookingPhoneCall['Booking Status'],CogentPhoneCall['Call Outcome'],DeliveryPhoneCall['Delivery Status'],FinPhoneCall['Call Outcome'],PhoneCall['Call Outcome'],TestRidePhoneCall['Test Ride Status'],RetailPhoneCall['Retail Status']], ignore_index=False)"
   ]
  },
  {
   "cell_type": "code",
   "execution_count": 13,
   "id": "e837d4db",
   "metadata": {},
   "outputs": [],
   "source": [
    "FinPhoneCall.insert(loc=1, column='Drop Out Reason', value=None)\n",
    "DropoutReason = pd.concat([BookingPhoneCall['Drop Out Reason'],CogentPhoneCall['Drop Out Reason'],DeliveryPhoneCall['Drop Out Reason'],FinPhoneCall['Drop Out Reason'],PhoneCall['Drop Out Reason'],TestRidePhoneCall['Drop Out Reason'],RetailPhoneCall['Drop Out Reason']], ignore_index=False)"
   ]
  },
  {
   "cell_type": "code",
   "execution_count": 14,
   "id": "b0ceb563",
   "metadata": {},
   "outputs": [],
   "source": [
    "Owner = pd.concat([BookingPhoneCall['Owner (User Name)'],CogentPhoneCall['Owner (User Name)'],DeliveryPhoneCall['Owner (User Name)'],FinPhoneCall['Owner (User Name)'],PhoneCall['Owner (User Name)'],TestRidePhoneCall['Owner (User Name)'],RetailPhoneCall['Owner (User Name)']], ignore_index=False)"
   ]
  },
  {
   "cell_type": "code",
   "execution_count": 15,
   "id": "f9e98102",
   "metadata": {},
   "outputs": [
    {
     "name": "stdout",
     "output_type": "stream",
     "text": [
      "                              Opportunity Id Activity Event Name  \\\n",
      "0       06155d68-8289-4d4a-888b-3f47263239ca  Booking Phone Call   \n",
      "1       47abb6f8-89d2-4a01-ba75-8e2594c15278  Booking Phone Call   \n",
      "2       abb31dcb-d7f7-4b36-a970-90bc3f5c89b5  Booking Phone Call   \n",
      "3       29891d60-72cd-46c1-b5d3-f402c7330d21  Booking Phone Call   \n",
      "4       472db3ff-0925-4f7a-89c9-df20aad21d81  Booking Phone Call   \n",
      "...                                      ...                 ...   \n",
      "487384  47a34744-af54-42f3-9ff9-50fe67456178   Retail Phone Call   \n",
      "487385  2c05a33f-61fb-4fac-bf64-789ee53f820b   Retail Phone Call   \n",
      "487386  eb26c871-770c-4bce-bb3c-1dd84757c17b   Retail Phone Call   \n",
      "487387  eb26c871-770c-4bce-bb3c-1dd84757c17b   Retail Phone Call   \n",
      "487388  184cc17d-48df-4f83-86c7-053712ede9af   Retail Phone Call   \n",
      "\n",
      "                 Activity Date    Call Status                         0  \\\n",
      "0       06/23/2024 07:40:56 PM      Connected        Schedule Test Ride   \n",
      "1       06/23/2024 07:12:52 PM  Not Connected           Call Unanswered   \n",
      "2       06/23/2024 07:10:37 PM  Not Connected           Call Unanswered   \n",
      "3       06/23/2024 07:09:59 PM  Not Connected           Call Unanswered   \n",
      "4       06/23/2024 07:09:49 PM      Connected     Interested in Booking   \n",
      "...                        ...            ...                       ...   \n",
      "487384  06/22/2023 07:12:54 PM      Connected               Retail Done   \n",
      "487385  06/22/2023 06:41:34 PM  Not Connected           Call Unanswered   \n",
      "487386  06/22/2023 06:22:15 PM      Connected      Interested in Buying   \n",
      "487387  06/22/2023 06:21:37 PM      Connected      Interested in Buying   \n",
      "487388  06/22/2023 12:49:46 PM      Connected  Not Interested in Buying   \n",
      "\n",
      "       Drop Out Reason Owner (User Name)  \n",
      "0                  NaN               NaN  \n",
      "1                  NaN               NaN  \n",
      "2                  NaN               NaN  \n",
      "3                  NaN               NaN  \n",
      "4                  NaN               NaN  \n",
      "...                ...               ...  \n",
      "487384             NaN               NaN  \n",
      "487385             NaN               NaN  \n",
      "487386             NaN               NaN  \n",
      "487387             NaN               NaN  \n",
      "487388             NaN               NaN  \n",
      "\n",
      "[487389 rows x 7 columns]\n"
     ]
    }
   ],
   "source": [
    "import pandas as pd\n",
    "\n",
    "# Sample data (assuming you already have these DataFrames)\n",
    "# merged_df, merged_df1, and merged_df2\n",
    "\n",
    "# Reset the index of the DataFrames\n",
    "Oppid.reset_index(drop=True, inplace=True)\n",
    "ActivityEventName.reset_index(drop=True, inplace=True)\n",
    "ActivityDate.reset_index(drop=True, inplace=True)\n",
    "CallStatus.reset_index(drop=True, inplace=True)\n",
    "CallOutcome.reset_index(drop=True, inplace=True)\n",
    "DropoutReason.reset_index(drop=True, inplace=True)\n",
    "Owner.reset_index(drop=True, inplace=True)\n",
    "# Combine the three DataFrames horizontally\n",
    "combined_df = pd.concat([Oppid, ActivityEventName, ActivityDate,CallStatus,CallOutcome,DropoutReason,Owner], axis=1)\n",
    "\n",
    "# Display the combined DataFrame\n",
    "print(combined_df)"
   ]
  },
  {
   "cell_type": "code",
   "execution_count": 16,
   "id": "3590b3cc",
   "metadata": {},
   "outputs": [
    {
     "data": {
      "text/html": [
       "<div>\n",
       "<style scoped>\n",
       "    .dataframe tbody tr th:only-of-type {\n",
       "        vertical-align: middle;\n",
       "    }\n",
       "\n",
       "    .dataframe tbody tr th {\n",
       "        vertical-align: top;\n",
       "    }\n",
       "\n",
       "    .dataframe thead th {\n",
       "        text-align: right;\n",
       "    }\n",
       "</style>\n",
       "<table border=\"1\" class=\"dataframe\">\n",
       "  <thead>\n",
       "    <tr style=\"text-align: right;\">\n",
       "      <th></th>\n",
       "      <th>Opportunity Id</th>\n",
       "      <th>Activity Event Name</th>\n",
       "      <th>Activity Date</th>\n",
       "      <th>Call Status</th>\n",
       "      <th>Call Outcome</th>\n",
       "      <th>Drop Out Reason</th>\n",
       "      <th>Owner (User Name)</th>\n",
       "    </tr>\n",
       "  </thead>\n",
       "  <tbody>\n",
       "    <tr>\n",
       "      <th>0</th>\n",
       "      <td>06155d68-8289-4d4a-888b-3f47263239ca</td>\n",
       "      <td>Booking Phone Call</td>\n",
       "      <td>06/23/2024 07:40:56 PM</td>\n",
       "      <td>Connected</td>\n",
       "      <td>Schedule Test Ride</td>\n",
       "      <td>NaN</td>\n",
       "      <td>NaN</td>\n",
       "    </tr>\n",
       "    <tr>\n",
       "      <th>1</th>\n",
       "      <td>47abb6f8-89d2-4a01-ba75-8e2594c15278</td>\n",
       "      <td>Booking Phone Call</td>\n",
       "      <td>06/23/2024 07:12:52 PM</td>\n",
       "      <td>Not Connected</td>\n",
       "      <td>Call Unanswered</td>\n",
       "      <td>NaN</td>\n",
       "      <td>NaN</td>\n",
       "    </tr>\n",
       "    <tr>\n",
       "      <th>2</th>\n",
       "      <td>abb31dcb-d7f7-4b36-a970-90bc3f5c89b5</td>\n",
       "      <td>Booking Phone Call</td>\n",
       "      <td>06/23/2024 07:10:37 PM</td>\n",
       "      <td>Not Connected</td>\n",
       "      <td>Call Unanswered</td>\n",
       "      <td>NaN</td>\n",
       "      <td>NaN</td>\n",
       "    </tr>\n",
       "    <tr>\n",
       "      <th>3</th>\n",
       "      <td>29891d60-72cd-46c1-b5d3-f402c7330d21</td>\n",
       "      <td>Booking Phone Call</td>\n",
       "      <td>06/23/2024 07:09:59 PM</td>\n",
       "      <td>Not Connected</td>\n",
       "      <td>Call Unanswered</td>\n",
       "      <td>NaN</td>\n",
       "      <td>NaN</td>\n",
       "    </tr>\n",
       "    <tr>\n",
       "      <th>4</th>\n",
       "      <td>472db3ff-0925-4f7a-89c9-df20aad21d81</td>\n",
       "      <td>Booking Phone Call</td>\n",
       "      <td>06/23/2024 07:09:49 PM</td>\n",
       "      <td>Connected</td>\n",
       "      <td>Interested in Booking</td>\n",
       "      <td>NaN</td>\n",
       "      <td>NaN</td>\n",
       "    </tr>\n",
       "    <tr>\n",
       "      <th>...</th>\n",
       "      <td>...</td>\n",
       "      <td>...</td>\n",
       "      <td>...</td>\n",
       "      <td>...</td>\n",
       "      <td>...</td>\n",
       "      <td>...</td>\n",
       "      <td>...</td>\n",
       "    </tr>\n",
       "    <tr>\n",
       "      <th>487384</th>\n",
       "      <td>47a34744-af54-42f3-9ff9-50fe67456178</td>\n",
       "      <td>Retail Phone Call</td>\n",
       "      <td>06/22/2023 07:12:54 PM</td>\n",
       "      <td>Connected</td>\n",
       "      <td>Retail Done</td>\n",
       "      <td>NaN</td>\n",
       "      <td>NaN</td>\n",
       "    </tr>\n",
       "    <tr>\n",
       "      <th>487385</th>\n",
       "      <td>2c05a33f-61fb-4fac-bf64-789ee53f820b</td>\n",
       "      <td>Retail Phone Call</td>\n",
       "      <td>06/22/2023 06:41:34 PM</td>\n",
       "      <td>Not Connected</td>\n",
       "      <td>Call Unanswered</td>\n",
       "      <td>NaN</td>\n",
       "      <td>NaN</td>\n",
       "    </tr>\n",
       "    <tr>\n",
       "      <th>487386</th>\n",
       "      <td>eb26c871-770c-4bce-bb3c-1dd84757c17b</td>\n",
       "      <td>Retail Phone Call</td>\n",
       "      <td>06/22/2023 06:22:15 PM</td>\n",
       "      <td>Connected</td>\n",
       "      <td>Interested in Buying</td>\n",
       "      <td>NaN</td>\n",
       "      <td>NaN</td>\n",
       "    </tr>\n",
       "    <tr>\n",
       "      <th>487387</th>\n",
       "      <td>eb26c871-770c-4bce-bb3c-1dd84757c17b</td>\n",
       "      <td>Retail Phone Call</td>\n",
       "      <td>06/22/2023 06:21:37 PM</td>\n",
       "      <td>Connected</td>\n",
       "      <td>Interested in Buying</td>\n",
       "      <td>NaN</td>\n",
       "      <td>NaN</td>\n",
       "    </tr>\n",
       "    <tr>\n",
       "      <th>487388</th>\n",
       "      <td>184cc17d-48df-4f83-86c7-053712ede9af</td>\n",
       "      <td>Retail Phone Call</td>\n",
       "      <td>06/22/2023 12:49:46 PM</td>\n",
       "      <td>Connected</td>\n",
       "      <td>Not Interested in Buying</td>\n",
       "      <td>NaN</td>\n",
       "      <td>NaN</td>\n",
       "    </tr>\n",
       "  </tbody>\n",
       "</table>\n",
       "<p>487389 rows × 7 columns</p>\n",
       "</div>"
      ],
      "text/plain": [
       "                              Opportunity Id Activity Event Name  \\\n",
       "0       06155d68-8289-4d4a-888b-3f47263239ca  Booking Phone Call   \n",
       "1       47abb6f8-89d2-4a01-ba75-8e2594c15278  Booking Phone Call   \n",
       "2       abb31dcb-d7f7-4b36-a970-90bc3f5c89b5  Booking Phone Call   \n",
       "3       29891d60-72cd-46c1-b5d3-f402c7330d21  Booking Phone Call   \n",
       "4       472db3ff-0925-4f7a-89c9-df20aad21d81  Booking Phone Call   \n",
       "...                                      ...                 ...   \n",
       "487384  47a34744-af54-42f3-9ff9-50fe67456178   Retail Phone Call   \n",
       "487385  2c05a33f-61fb-4fac-bf64-789ee53f820b   Retail Phone Call   \n",
       "487386  eb26c871-770c-4bce-bb3c-1dd84757c17b   Retail Phone Call   \n",
       "487387  eb26c871-770c-4bce-bb3c-1dd84757c17b   Retail Phone Call   \n",
       "487388  184cc17d-48df-4f83-86c7-053712ede9af   Retail Phone Call   \n",
       "\n",
       "                 Activity Date    Call Status              Call Outcome  \\\n",
       "0       06/23/2024 07:40:56 PM      Connected        Schedule Test Ride   \n",
       "1       06/23/2024 07:12:52 PM  Not Connected           Call Unanswered   \n",
       "2       06/23/2024 07:10:37 PM  Not Connected           Call Unanswered   \n",
       "3       06/23/2024 07:09:59 PM  Not Connected           Call Unanswered   \n",
       "4       06/23/2024 07:09:49 PM      Connected     Interested in Booking   \n",
       "...                        ...            ...                       ...   \n",
       "487384  06/22/2023 07:12:54 PM      Connected               Retail Done   \n",
       "487385  06/22/2023 06:41:34 PM  Not Connected           Call Unanswered   \n",
       "487386  06/22/2023 06:22:15 PM      Connected      Interested in Buying   \n",
       "487387  06/22/2023 06:21:37 PM      Connected      Interested in Buying   \n",
       "487388  06/22/2023 12:49:46 PM      Connected  Not Interested in Buying   \n",
       "\n",
       "       Drop Out Reason Owner (User Name)  \n",
       "0                  NaN               NaN  \n",
       "1                  NaN               NaN  \n",
       "2                  NaN               NaN  \n",
       "3                  NaN               NaN  \n",
       "4                  NaN               NaN  \n",
       "...                ...               ...  \n",
       "487384             NaN               NaN  \n",
       "487385             NaN               NaN  \n",
       "487386             NaN               NaN  \n",
       "487387             NaN               NaN  \n",
       "487388             NaN               NaN  \n",
       "\n",
       "[487389 rows x 7 columns]"
      ]
     },
     "execution_count": 16,
     "metadata": {},
     "output_type": "execute_result"
    }
   ],
   "source": [
    "combined_df.rename(columns={0: 'Call Outcome'}, inplace=True)\n",
    "\n",
    "combined_df"
   ]
  },
  {
   "cell_type": "code",
   "execution_count": 17,
   "id": "f6f0ec0c",
   "metadata": {},
   "outputs": [
    {
     "name": "stderr",
     "output_type": "stream",
     "text": [
      "C:\\Users\\rajat.kapoor\\AppData\\Local\\Temp\\ipykernel_32004\\1672869196.py:4: SettingWithCopyWarning: \n",
      "A value is trying to be set on a copy of a slice from a DataFrame.\n",
      "Try using .loc[row_indexer,col_indexer] = value instead\n",
      "\n",
      "See the caveats in the documentation: https://pandas.pydata.org/pandas-docs/stable/user_guide/indexing.html#returning-a-view-versus-a-copy\n",
      "  combined_df['Activity Date'] = pd.to_datetime(combined_df['Activity Date'], format='%m/%d/%Y %I:%M:%S %p')\n"
     ]
    }
   ],
   "source": [
    "combined_df = combined_df[~combined_df['Opportunity Id'].isnull() & (combined_df['Opportunity Id'] != '')]\n",
    "\n",
    "# Convert the 'date' column to datetime format\n",
    "combined_df['Activity Date'] = pd.to_datetime(combined_df['Activity Date'], format='%m/%d/%Y %I:%M:%S %p')\n",
    "\n",
    "# Sort the DataFrame by 'date' in descending order\n",
    "combined_df = combined_df.sort_values(by='Activity Date', ascending=False)\n",
    "\n",
    "combined_df.to_excel(\"C:\\\\Users\\\\rajat.kapoor\\\\OneDrive - RattanIndia Power Limited\\\\Desktop\\\\All LSQ Data\\\\ALL ACTIVITY.xlsx\")"
   ]
  },
  {
   "cell_type": "markdown",
   "id": "f1c49e31",
   "metadata": {},
   "source": [
    "# Now shorthen Leads dump & remove unnecessary columns"
   ]
  },
  {
   "cell_type": "code",
   "execution_count": 18,
   "id": "af3738fa",
   "metadata": {},
   "outputs": [
    {
     "name": "stderr",
     "output_type": "stream",
     "text": [
      "C:\\Users\\rajat.kapoor\\AppData\\Local\\Temp\\ipykernel_32004\\3648309487.py:3: DtypeWarning: Columns (2,19,23,24,25,28,31,32,34,35,36,39,42,43,48,51,52,53,55,56,57,58,59,62,63,66,67,68,69,71,72,74,76,77,81,83,84,86,87,88,90,91,92,93,94,95,96,98,99,100,101,102,103,104,105,106,108,109,110,111,112,113,114,115,116,117,118,119,120,122,123,124) have mixed types. Specify dtype option on import or set low_memory=False.\n",
      "  Oppdata = pd.read_csv(\"C:\\\\Users\\\\rajat.kapoor\\\\OneDrive - RattanIndia Power Limited\\\\Desktop\\\\All LSQ Data\\\\OpportunityExport_a3fbded2-4285-4ae0-8387-4ccc65d42b9f\\\\OpportunityExport_a3fbded2-4285-4ae0-8387-4ccc65d42b9f.csv\")\n"
     ]
    }
   ],
   "source": [
    "import pandas as pd\n",
    "\n",
    "Oppdata = pd.read_csv(\"C:\\\\Users\\\\rajat.kapoor\\\\OneDrive - RattanIndia Power Limited\\\\Desktop\\\\All LSQ Data\\\\OpportunityExport_a3fbded2-4285-4ae0-8387-4ccc65d42b9f\\\\OpportunityExport_a3fbded2-4285-4ae0-8387-4ccc65d42b9f.csv\")\n",
    "\n",
    "Oppdata['Created On'] = pd.to_datetime(Oppdata['Created On'], errors='coerce').dt.strftime('%m/%d/%Y %I:%M:%S %p')\n",
    "\n",
    "Oppdata['Booking Done on'] = pd.to_datetime(Oppdata['Booking Done on'], errors='coerce').dt.strftime('%m/%d/%Y %I:%M:%S %p')\n",
    "\n",
    "Oppdata['Retail Done on'] = pd.to_datetime(Oppdata['Retail Done on'], errors='coerce').dt.strftime('%m/%d/%Y %I:%M:%S %p')"
   ]
  },
  {
   "cell_type": "code",
   "execution_count": 19,
   "id": "8241d171",
   "metadata": {},
   "outputs": [],
   "source": [
    "Oppdata = Oppdata[[\"Opportunity Id\",\"Opportunity Name\",\"Owner (User Name)\",\"Owner (User Email)\",\"Created On\",\"Status\",\"Stage\",\"Opportunity Hub\",\"Attended Status\",\"Lead Main Stage\",\"REV Opportunity Source\",\"Booking Done on\",\"Latest Activity Outcome\",\"Retail Done on\",\"Mobile Number\",\"CC Transfer Status\",\"CC Called Count\",\"CC Calling Status\",\"CC Calling Outcome\",\"CC Calling Time\",\"AutoID\"]]"
   ]
  },
  {
   "cell_type": "code",
   "execution_count": 20,
   "id": "bf470204",
   "metadata": {},
   "outputs": [],
   "source": [
    "owners_to_exclude = ['Vishnu R Kashyap', 'Kanika Kanwar', 'Gurkirat Singh','Shivangi Yogi','Nitish Puri','Harendra Singh','Kanishk Sharma','Simrandeep Kaur','Joyeta Modak','Deepti Ila','Abhijit Chakraborty','Manoj Kanwar']\n",
    "lead_stages_to_exclude = ['Lead', 'Raw Lead', 'Test Ride', '']\n",
    "\n",
    "Oppdata = Oppdata[~(Oppdata['Owner (User Name)'].isin(owners_to_exclude) & Oppdata['Lead Main Stage'].isin(lead_stages_to_exclude))]"
   ]
  },
  {
   "cell_type": "code",
   "execution_count": 21,
   "id": "1ff5ec9c",
   "metadata": {},
   "outputs": [],
   "source": [
    "Oppdata = Oppdata[~((Oppdata['Opportunity Hub'] == 'REVOLT CENTRAL HUB') & (Oppdata['CC Transfer Status'].isna() | (Oppdata['CC Transfer Status'] == '')))]"
   ]
  },
  {
   "cell_type": "code",
   "execution_count": 22,
   "id": "fb009223",
   "metadata": {},
   "outputs": [],
   "source": [
    "exclude_conditions = (\n",
    "    (Oppdata['Owner (User Name)'].isin(['Admin', 'System', 'System Admin'])) &\n",
    "    (Oppdata['REV Opportunity Source'].isin(['Bike Dekho', 'Paid - Bike Dekho']))\n",
    ")\n",
    "\n",
    "# Filter out the rows that meet the exclusion criteria\n",
    "Oppdata = Oppdata[~exclude_conditions]"
   ]
  },
  {
   "cell_type": "code",
   "execution_count": 23,
   "id": "55934266",
   "metadata": {},
   "outputs": [],
   "source": [
    "Oppdata = Oppdata[Oppdata['REV Opportunity Source'].notna() & (Oppdata['REV Opportunity Source'] != '') &\n",
    "                 Oppdata['Opportunity Hub'].notna() & (Oppdata['Opportunity Hub'] != '')]"
   ]
  },
  {
   "cell_type": "code",
   "execution_count": 24,
   "id": "a9ea2cea",
   "metadata": {},
   "outputs": [],
   "source": [
    "# Function to extract category based on keywords\n",
    "def categorize_source(source):\n",
    "    if pd.isna(source):\n",
    "        return 'Other'  # or any default category for NaN values\n",
    "    elif 'Paid' in source:\n",
    "        return 'Paid'\n",
    "    elif 'CleverTap' in source:\n",
    "        return 'Paid'\n",
    "    elif 'Organic' in source:\n",
    "        return 'Organic'\n",
    "    elif 'Dealer Hub' in source:\n",
    "        return 'Dealer Hub Walk In'\n",
    "    elif 'Bike Dekho' in source:\n",
    "        return 'Aggregators'\n",
    "    else:\n",
    "        return 'Other'\n",
    "\n",
    "# Create a new column 'Category' based on 'rev source'\n",
    "Oppdata['REV Source Type'] = Oppdata['REV Opportunity Source'].apply(categorize_source)"
   ]
  },
  {
   "cell_type": "code",
   "execution_count": 25,
   "id": "11a713a0",
   "metadata": {},
   "outputs": [],
   "source": [
    "Oppdata.to_excel(\"C:\\\\Users\\\\rajat.kapoor\\\\OneDrive - RattanIndia Power Limited\\\\Desktop\\\\BASEDATA.xlsx\")"
   ]
  },
  {
   "cell_type": "code",
   "execution_count": 38,
   "id": "3b62946c",
   "metadata": {},
   "outputs": [
    {
     "name": "stdout",
     "output_type": "stream",
     "text": [
      "\n",
      "Pivoted DataFrame with Overall Count:\n",
      "DCAT                        1-23APR  1-23JUN  1-23MAY\n",
      "Opportunity Hub                                      \n",
      "REVOLT HUB FARIDABAD              4       12        6\n",
      "REVOLT HUB GURGAON                8       18        4\n",
      "REVOLT HUB DWARKA SEC 5           0        0        1\n",
      "REVOLT HUB GUJRANWALA TOWN        4        2        3\n",
      "REVOLT HUB KANTI NAGAR            8        0        0\n",
      "...                             ...      ...      ...\n",
      "REVOLT HUB KANNUR                 0        0        0\n",
      "REVOLT HUB GODHRA                 0        6        3\n",
      "REVOLT HUB CUTTACK                0        6        0\n",
      "REVOLT HUB RANCHI                 0        6        0\n",
      "Overall                         752      639      602\n",
      "\n",
      "[156 rows x 3 columns]\n",
      "\n",
      "Pivoted DataFrame for Organic with Overall Count and All Hubs:\n",
      "DCAT                        1-23APR  1-23JUN  1-23MAY  REV Source Type Count\n",
      "Opportunity Hub                                                             \n",
      "REVOLT HUB FARIDABAD              0        0        0                    396\n",
      "REVOLT HUB GURGAON                4        5        1                    396\n",
      "REVOLT HUB DWARKA SEC 5           0        0        1                    396\n",
      "REVOLT HUB GUJRANWALA TOWN        0        0        0                    396\n",
      "REVOLT HUB KANTI NAGAR            2        0        0                    396\n",
      "...                             ...      ...      ...                    ...\n",
      "REVOLT HUB KANNUR                 0        0        0                    396\n",
      "REVOLT HUB GODHRA                 0        3        0                    396\n",
      "REVOLT HUB CUTTACK                0        1        0                    396\n",
      "REVOLT HUB RANCHI                 0        2        0                    396\n",
      "Overall                         162      126      108                    396\n",
      "\n",
      "[156 rows x 4 columns]\n",
      "\n",
      "Pivoted DataFrame for Paid with Overall Count and All Hubs:\n",
      "DCAT                        1-23APR  1-23JUN  1-23MAY  REV Source Type Count\n",
      "Opportunity Hub                                                             \n",
      "REVOLT HUB FARIDABAD              3        1        4                    685\n",
      "REVOLT HUB GURGAON                2        4        0                    685\n",
      "REVOLT HUB DWARKA SEC 5           0        0        0                    685\n",
      "REVOLT HUB GUJRANWALA TOWN        2        2        0                    685\n",
      "REVOLT HUB KANTI NAGAR            4        0        0                    685\n",
      "...                             ...      ...      ...                    ...\n",
      "REVOLT HUB KANNUR                 0        0        0                    685\n",
      "REVOLT HUB GODHRA                 0        2        1                    685\n",
      "REVOLT HUB CUTTACK                0        0        0                    685\n",
      "REVOLT HUB RANCHI                 0        2        0                    685\n",
      "Overall                         289      198      197                    685\n",
      "\n",
      "[156 rows x 4 columns]\n",
      "\n",
      "Pivoted DataFrame for Dealer Hub Walk In with Overall Count and All Hubs:\n",
      "DCAT                        1-23APR  1-23JUN  1-23MAY  REV Source Type Count\n",
      "Opportunity Hub                                                             \n",
      "REVOLT HUB FARIDABAD              1        9        2                    856\n",
      "REVOLT HUB GURGAON                1        8        3                    856\n",
      "REVOLT HUB DWARKA SEC 5           0        0        0                    856\n",
      "REVOLT HUB GUJRANWALA TOWN        1        0        3                    856\n",
      "REVOLT HUB KANTI NAGAR            2        0        0                    856\n",
      "...                             ...      ...      ...                    ...\n",
      "REVOLT HUB KANNUR                 0        0        0                    856\n",
      "REVOLT HUB GODHRA                 0        1        2                    856\n",
      "REVOLT HUB CUTTACK                0        5        0                    856\n",
      "REVOLT HUB RANCHI                 0        2        0                    856\n",
      "Overall                         280      296      278                    856\n",
      "\n",
      "[156 rows x 4 columns]\n",
      "\n",
      "Pivoted DataFrame for Aggregators with Overall Count and All Hubs:\n",
      "DCAT                        1-23APR  1-23JUN  1-23MAY  REV Source Type Count\n",
      "Opportunity Hub                                                             \n",
      "REVOLT HUB FARIDABAD              0        2        0                     59\n",
      "REVOLT HUB GURGAON                1        1        0                     59\n",
      "REVOLT HUB DWARKA SEC 5           0        0        0                     59\n",
      "REVOLT HUB GUJRANWALA TOWN        1        0        0                     59\n",
      "REVOLT HUB KANTI NAGAR            0        0        0                     59\n",
      "...                             ...      ...      ...                    ...\n",
      "REVOLT HUB KANNUR                 0        0        0                     59\n",
      "REVOLT HUB GODHRA                 0        0        0                     59\n",
      "REVOLT HUB CUTTACK                0        0        0                     59\n",
      "REVOLT HUB RANCHI                 0        0        0                     59\n",
      "Overall                          21       19       19                     59\n",
      "\n",
      "[156 rows x 4 columns]\n",
      "\n",
      "Combined DataFrame for all REV Source Types with Overall Count and All Hubs:\n",
      "DCAT                                    1-23APR  1-23JUN  1-23MAY  \\\n",
      "            Opportunity Hub                                         \n",
      "Organic     REVOLT HUB FARIDABAD              0        0        0   \n",
      "            REVOLT HUB GURGAON                4        5        1   \n",
      "            REVOLT HUB DWARKA SEC 5           0        0        1   \n",
      "            REVOLT HUB GUJRANWALA TOWN        0        0        0   \n",
      "            REVOLT HUB KANTI NAGAR            2        0        0   \n",
      "...                                         ...      ...      ...   \n",
      "Aggregators REVOLT HUB KANNUR                 0        0        0   \n",
      "            REVOLT HUB GODHRA                 0        0        0   \n",
      "            REVOLT HUB CUTTACK                0        0        0   \n",
      "            REVOLT HUB RANCHI                 0        0        0   \n",
      "            Overall                          21       19       19   \n",
      "\n",
      "DCAT                                    REV Source Type Count  \n",
      "            Opportunity Hub                                    \n",
      "Organic     REVOLT HUB FARIDABAD                          396  \n",
      "            REVOLT HUB GURGAON                            396  \n",
      "            REVOLT HUB DWARKA SEC 5                       396  \n",
      "            REVOLT HUB GUJRANWALA TOWN                    396  \n",
      "            REVOLT HUB KANTI NAGAR                        396  \n",
      "...                                                       ...  \n",
      "Aggregators REVOLT HUB KANNUR                              59  \n",
      "            REVOLT HUB GODHRA                              59  \n",
      "            REVOLT HUB CUTTACK                             59  \n",
      "            REVOLT HUB RANCHI                              59  \n",
      "            Overall                                        59  \n",
      "\n",
      "[624 rows x 4 columns]\n"
     ]
    }
   ],
   "source": [
    "import pandas as pd\n",
    "\n",
    "# Load the data from the Excel file\n",
    "file_path = \"C:\\\\Users\\\\rajat.kapoor\\\\Downloads\\\\DATA_MANAN.xlsx\"\n",
    "DD = pd.read_excel(file_path, sheet_name=\"Booking\")\n",
    "\n",
    "file_path = \"C:\\\\Users\\\\rajat.kapoor\\\\Downloads\\\\DATA_MANAN.xlsx\"\n",
    "EE = pd.read_excel(file_path, sheet_name=\"Sheet1\")\n",
    "\n",
    "# Get the complete list of Opportunity Hubs\n",
    "all_hubs = EE[\"Opportunity Hub\"].unique()\n",
    "\n",
    "# Pivot the DataFrame with TRCompleted_DCAT as columns and Opportunity Hub as rows\n",
    "pivoted_df = DD.pivot_table(index=\"Opportunity Hub\", columns=\"DCAT\", aggfunc='size', fill_value=0)\n",
    "\n",
    "# Ensure all hubs are present for the overall pivoted DataFrame\n",
    "pivoted_df = pivoted_df.reindex(all_hubs, fill_value=0)\n",
    "\n",
    "# Add an overall row\n",
    "pivoted_df.loc['Overall'] = pivoted_df.sum()\n",
    "\n",
    "# Show the pivoted DataFrame with overall count\n",
    "print(\"\\nPivoted DataFrame with Overall Count:\")\n",
    "print(pivoted_df)\n",
    "\n",
    "# Separate DataFrames based on REV Source Type\n",
    "rev_source_types = DD[\"REV Source Type\"].unique()\n",
    "\n",
    "# Dictionary to hold separate DataFrames\n",
    "pivoted_dfs = {}\n",
    "\n",
    "for rev_source in rev_source_types:\n",
    "    filtered_df = DD[DD[\"REV Source Type\"] == rev_source]\n",
    "    pivoted_rev_df = filtered_df.pivot_table(index=\"Opportunity Hub\", columns=\"DCAT\", aggfunc='size', fill_value=0)\n",
    "    \n",
    "    # Ensure all hubs are present\n",
    "    pivoted_rev_df = pivoted_rev_df.reindex(all_hubs, fill_value=0)\n",
    "    \n",
    "    # Add an overall row\n",
    "    pivoted_rev_df.loc['Overall'] = pivoted_rev_df.sum()\n",
    "    \n",
    "    # Add the overall count of REV Source Type\n",
    "    overall_count = len(filtered_df)\n",
    "    pivoted_rev_df['REV Source Type Count'] = overall_count\n",
    "    \n",
    "    pivoted_dfs[rev_source] = pivoted_rev_df\n",
    "    print(f\"\\nPivoted DataFrame for {rev_source} with Overall Count and All Hubs:\")\n",
    "    print(pivoted_rev_df)\n",
    "\n",
    "# Optionally, combine all separate pivoted DataFrames into a single DataFrame for easier viewing or export\n",
    "combined_df = pd.concat(pivoted_dfs, axis=0)\n",
    "\n",
    "print(\"\\nCombined DataFrame for all REV Source Types with Overall Count and All Hubs:\")\n",
    "print(combined_df)\n",
    "\n",
    "combined_df.to_excel(\"C:\\\\Users\\\\rajat.kapoor\\\\Downloads\\\\REVSourceWise.xlsx\")\n",
    "pivoted_df.to_excel(\"C:\\\\Users\\\\rajat.kapoor\\\\Downloads\\\\CombinedDF.xlsx\")"
   ]
  },
  {
   "cell_type": "code",
   "execution_count": 33,
   "id": "b7e5d710",
   "metadata": {},
   "outputs": [
    {
     "data": {
      "text/html": [
       "<div>\n",
       "<style scoped>\n",
       "    .dataframe tbody tr th:only-of-type {\n",
       "        vertical-align: middle;\n",
       "    }\n",
       "\n",
       "    .dataframe tbody tr th {\n",
       "        vertical-align: top;\n",
       "    }\n",
       "\n",
       "    .dataframe thead th {\n",
       "        text-align: right;\n",
       "    }\n",
       "</style>\n",
       "<table border=\"1\" class=\"dataframe\">\n",
       "  <thead>\n",
       "    <tr style=\"text-align: right;\">\n",
       "      <th>TRCompleted_DCAT</th>\n",
       "      <th>1-14APR</th>\n",
       "      <th>1-14JUN</th>\n",
       "      <th>1-14MAY</th>\n",
       "    </tr>\n",
       "    <tr>\n",
       "      <th>Opportunity Hub</th>\n",
       "      <th></th>\n",
       "      <th></th>\n",
       "      <th></th>\n",
       "    </tr>\n",
       "  </thead>\n",
       "  <tbody>\n",
       "    <tr>\n",
       "      <th>REVOLT HUB FARIDABAD</th>\n",
       "      <td>5</td>\n",
       "      <td>8</td>\n",
       "      <td>4</td>\n",
       "    </tr>\n",
       "    <tr>\n",
       "      <th>REVOLT HUB GURGAON</th>\n",
       "      <td>7</td>\n",
       "      <td>11</td>\n",
       "      <td>3</td>\n",
       "    </tr>\n",
       "    <tr>\n",
       "      <th>REVOLT HUB DWARKA SEC 5</th>\n",
       "      <td>1</td>\n",
       "      <td>3</td>\n",
       "      <td>0</td>\n",
       "    </tr>\n",
       "    <tr>\n",
       "      <th>REVOLT HUB GUJRANWALA TOWN</th>\n",
       "      <td>4</td>\n",
       "      <td>0</td>\n",
       "      <td>3</td>\n",
       "    </tr>\n",
       "    <tr>\n",
       "      <th>REVOLT HUB KANTI NAGAR</th>\n",
       "      <td>7</td>\n",
       "      <td>0</td>\n",
       "      <td>1</td>\n",
       "    </tr>\n",
       "    <tr>\n",
       "      <th>...</th>\n",
       "      <td>...</td>\n",
       "      <td>...</td>\n",
       "      <td>...</td>\n",
       "    </tr>\n",
       "    <tr>\n",
       "      <th>REVOLT HUB KANNUR</th>\n",
       "      <td>0</td>\n",
       "      <td>0</td>\n",
       "      <td>0</td>\n",
       "    </tr>\n",
       "    <tr>\n",
       "      <th>REVOLT HUB GODHRA</th>\n",
       "      <td>0</td>\n",
       "      <td>9</td>\n",
       "      <td>0</td>\n",
       "    </tr>\n",
       "    <tr>\n",
       "      <th>REVOLT HUB CUTTACK</th>\n",
       "      <td>0</td>\n",
       "      <td>3</td>\n",
       "      <td>0</td>\n",
       "    </tr>\n",
       "    <tr>\n",
       "      <th>REVOLT HUB RANCHI</th>\n",
       "      <td>0</td>\n",
       "      <td>1</td>\n",
       "      <td>0</td>\n",
       "    </tr>\n",
       "    <tr>\n",
       "      <th>Overall</th>\n",
       "      <td>545</td>\n",
       "      <td>1770</td>\n",
       "      <td>486</td>\n",
       "    </tr>\n",
       "  </tbody>\n",
       "</table>\n",
       "<p>156 rows × 3 columns</p>\n",
       "</div>"
      ],
      "text/plain": [
       "TRCompleted_DCAT            1-14APR  1-14JUN  1-14MAY\n",
       "Opportunity Hub                                      \n",
       "REVOLT HUB FARIDABAD              5        8        4\n",
       "REVOLT HUB GURGAON                7       11        3\n",
       "REVOLT HUB DWARKA SEC 5           1        3        0\n",
       "REVOLT HUB GUJRANWALA TOWN        4        0        3\n",
       "REVOLT HUB KANTI NAGAR            7        0        1\n",
       "...                             ...      ...      ...\n",
       "REVOLT HUB KANNUR                 0        0        0\n",
       "REVOLT HUB GODHRA                 0        9        0\n",
       "REVOLT HUB CUTTACK                0        3        0\n",
       "REVOLT HUB RANCHI                 0        1        0\n",
       "Overall                         545     1770      486\n",
       "\n",
       "[156 rows x 3 columns]"
      ]
     },
     "execution_count": 33,
     "metadata": {},
     "output_type": "execute_result"
    }
   ],
   "source": [
    "pivoted_df"
   ]
  },
  {
   "cell_type": "code",
   "execution_count": null,
   "id": "af2fa6d2",
   "metadata": {},
   "outputs": [],
   "source": [
    "import pandas as pd\n",
    "\n",
    "DD = pd.read_excel(\"c://jkkkk.xlsx\", sheet_name='')\n",
    "\n",
    "EE = pd.read_excel(\"c://jkk.xlsx\", sheet_name='')\n",
    "\n",
    "uniquehubs = EE[EE['Opportunity Hub']]"
   ]
  },
  {
   "cell_type": "code",
   "execution_count": 25,
   "id": "e67bcc0b",
   "metadata": {},
   "outputs": [],
   "source": [
    "# SRC File"
   ]
  },
  {
   "cell_type": "code",
   "execution_count": 26,
   "id": "e08add59",
   "metadata": {},
   "outputs": [
    {
     "name": "stderr",
     "output_type": "stream",
     "text": [
      "C:\\Users\\rajat.kapoor\\AppData\\Local\\Temp\\ipykernel_32004\\2494209552.py:3: DtypeWarning: Columns (2,19,23,24,25,28,31,32,34,35,36,39,42,43,48,51,52,53,55,56,57,58,59,62,63,66,67,68,69,71,72,74,76,77,81,83,84,86,87,88,90,91,92,93,94,95,96,98,99,100,101,102,103,104,105,106,108,109,110,111,112,113,114,115,116,117,118,119,120,122,123,124) have mixed types. Specify dtype option on import or set low_memory=False.\n",
      "  SRCDATA = pd.read_csv(\"C:\\\\Users\\\\rajat.kapoor\\\\OneDrive - RattanIndia Power Limited\\\\Desktop\\\\All LSQ Data\\\\OpportunityExport_a3fbded2-4285-4ae0-8387-4ccc65d42b9f\\\\OpportunityExport_a3fbded2-4285-4ae0-8387-4ccc65d42b9f.csv\")\n"
     ]
    }
   ],
   "source": [
    "import pandas as pd\n",
    "\n",
    "SRCDATA = pd.read_csv(\"C:\\\\Users\\\\rajat.kapoor\\\\OneDrive - RattanIndia Power Limited\\\\Desktop\\\\All LSQ Data\\\\OpportunityExport_a3fbded2-4285-4ae0-8387-4ccc65d42b9f\\\\OpportunityExport_a3fbded2-4285-4ae0-8387-4ccc65d42b9f.csv\")"
   ]
  },
  {
   "cell_type": "code",
   "execution_count": 27,
   "id": "f7718922",
   "metadata": {},
   "outputs": [],
   "source": [
    "SRCDATA = SRCDATA[['Mobile Number','Opportunity Id','Created On','Opportunity Hub','REV Opportunity Source','Booking Done on','Retail Done on']]"
   ]
  },
  {
   "cell_type": "code",
   "execution_count": 28,
   "id": "e73fcb56",
   "metadata": {},
   "outputs": [
    {
     "name": "stderr",
     "output_type": "stream",
     "text": [
      "C:\\Users\\rajat.kapoor\\AppData\\Local\\Temp\\ipykernel_32004\\3071954077.py:1: FutureWarning: The default value of regex will change from True to False in a future version.\n",
      "  SRCDATA['Mobile Number'] = SRCDATA['Mobile Number'].str.replace(r'\\+91-', '')\n"
     ]
    }
   ],
   "source": [
    "SRCDATA['Mobile Number'] = SRCDATA['Mobile Number'].str.replace(r'\\+91-', '')\n",
    "SRCDATA['Mobile Number'] = SRCDATA['Mobile Number'].str.strip(\"'\").str.replace(\"'\", \"\")\n",
    "\n",
    "#'\\+91-': This is the actual pattern within the raw string. Let's break it down further:\n",
    "\n",
    "#\\+: The backslash before the plus sign means that the plus sign is treated as a literal character, not as a special character in regex. Normally, the plus sign in regex means \"one or more of the preceding element.\"\n",
    "#91: This is a sequence of digits.\n",
    "\n",
    "#The str.strip(\"'\") and str.replace(\"'\", \"\") methods in your code are dealing specifically with single quotes, not spaces. Let me clarify what each method does:\n",
    "\n",
    "#str.strip(\"'\"):\n",
    "\n",
    "#This method removes single quote characters (') from the beginning and end of each string in the 'Mobile Number' column. It does not affect spaces.\n",
    "#For example, if the string is \"'1234567890'\", strip(\"'\") will turn it into \"1234567890\".\n",
    "#str.replace(\"'\", \"\"):\n",
    "\n",
    "#This method replaces all occurrences of single quote characters (') within the strings with an empty string. This means it removes all single quotes, not just those at the beginning or end.\n",
    "#For example, if the string is \"123'456'7890\", replace(\"'\", \"\") will turn it into \"1234567890\"."
   ]
  },
  {
   "cell_type": "code",
   "execution_count": 29,
   "id": "33b475ac",
   "metadata": {},
   "outputs": [],
   "source": [
    "# Function to extract category based on keywords\n",
    "def categorize_source(source):\n",
    "    if pd.isna(source):\n",
    "        return 'Other'  # or any default category for NaN values\n",
    "    elif 'Paid' in source:\n",
    "        return 'Paid'\n",
    "    elif 'CleverTap' in source:\n",
    "        return 'Paid'\n",
    "    elif 'Organic' in source:\n",
    "        return 'Organic'\n",
    "    elif 'Dealer Hub' in source:\n",
    "        return 'Dealer Hub Walk In'\n",
    "    elif 'Bike Dekho' in source:\n",
    "        return 'Aggregators'\n",
    "    else:\n",
    "        return 'Other'\n",
    "\n",
    "# Create a new column 'Category' based on 'rev source'\n",
    "SRCDATA['REV Source Type'] = SRCDATA['REV Opportunity Source'].apply(categorize_source)"
   ]
  },
  {
   "cell_type": "code",
   "execution_count": 30,
   "id": "bc7a816f",
   "metadata": {},
   "outputs": [],
   "source": [
    "# Convert the 'date' column to datetime format\n",
    "SRCDATA['Created On'] = pd.to_datetime(SRCDATA['Created On'], format='%m/%d/%Y %H:%M')\n",
    "\n",
    "# Sort the DataFrame by 'date' in descending order\n",
    "SRCDATA = SRCDATA.sort_values(by='Created On', ascending=False)"
   ]
  },
  {
   "cell_type": "code",
   "execution_count": 31,
   "id": "2185e33f",
   "metadata": {},
   "outputs": [],
   "source": [
    "SRCDATA.to_excel('C:\\\\Users\\\\rajat.kapoor\\\\OneDrive - RattanIndia Power Limited\\\\Desktop\\\\SRCFILE.xlsx')"
   ]
  },
  {
   "cell_type": "code",
   "execution_count": null,
   "id": "cf858eea",
   "metadata": {},
   "outputs": [],
   "source": []
  },
  {
   "cell_type": "code",
   "execution_count": null,
   "id": "df72b395",
   "metadata": {},
   "outputs": [],
   "source": []
  },
  {
   "cell_type": "code",
   "execution_count": null,
   "id": "0e7fd7de",
   "metadata": {},
   "outputs": [],
   "source": []
  },
  {
   "cell_type": "code",
   "execution_count": null,
   "id": "7937e1f1",
   "metadata": {},
   "outputs": [],
   "source": []
  },
  {
   "cell_type": "code",
   "execution_count": 143,
   "id": "9825cc65",
   "metadata": {},
   "outputs": [
    {
     "ename": "NameError",
     "evalue": "name 'glueContext' is not defined",
     "output_type": "error",
     "traceback": [
      "\u001b[1;31m---------------------------------------------------------------------------\u001b[0m",
      "\u001b[1;31mNameError\u001b[0m                                 Traceback (most recent call last)",
      "Cell \u001b[1;32mIn[143], line 2\u001b[0m\n\u001b[0;32m      1\u001b[0m s3_path \u001b[38;5;241m=\u001b[39m \u001b[38;5;124m\"\u001b[39m\u001b[38;5;124ms3://lsqleadss/output-file.csv/\u001b[39m\u001b[38;5;124m\"\u001b[39m\n\u001b[1;32m----> 2\u001b[0m dyf_customer_from_s3 \u001b[38;5;241m=\u001b[39m \u001b[43mglueContext\u001b[49m\u001b[38;5;241m.\u001b[39mcreate_dynamic_frame_from_options(connection_type \u001b[38;5;241m=\u001b[39m \u001b[38;5;124m'\u001b[39m\u001b[38;5;124ms3\u001b[39m\u001b[38;5;124m'\u001b[39m,\n\u001b[0;32m      3\u001b[0m                                                                 connection_options \u001b[38;5;241m=\u001b[39m {\u001b[38;5;124m\"\u001b[39m\u001b[38;5;124mpaths\u001b[39m\u001b[38;5;124m\"\u001b[39m:[s3_path]},\n\u001b[0;32m      4\u001b[0m                                                                 \u001b[38;5;28mformat\u001b[39m \u001b[38;5;241m=\u001b[39m \u001b[38;5;124m'\u001b[39m\u001b[38;5;124mjson\u001b[39m\u001b[38;5;124m'\u001b[39m,\n\u001b[0;32m      5\u001b[0m                                                                 format_options \u001b[38;5;241m=\u001b[39m {\u001b[38;5;124m\"\u001b[39m\u001b[38;5;124mwithHeader\u001b[39m\u001b[38;5;124m\"\u001b[39m: \u001b[38;5;28;01mTrue\u001b[39;00m})\n",
      "\u001b[1;31mNameError\u001b[0m: name 'glueContext' is not defined"
     ]
    }
   ],
   "source": [
    "s3_path = \"s3://lsqleadss/output-file.csv/\"\n",
    "dyf_customer_from_s3 = glueContext.create_dynamic_frame_from_options(connection_type = 's3',\n",
    "                                                                connection_options = {\"paths\":[s3_path]},\n",
    "                                                                format = 'json',\n",
    "                                                                format_options = {\"withHeader\": True})"
   ]
  },
  {
   "cell_type": "code",
   "execution_count": null,
   "id": "49c39762",
   "metadata": {},
   "outputs": [],
   "source": [
    "# load data into Redshift\n",
    "dyf_customer_from_s3.write \\\n",
    "    .format(\"jdbc\") \\\n",
    "    .option(\"url\", \"jdbc:redshift://redshift-cluster-1.co4rdahu0pqg.ap-south-1.redshift.amazonaws.com:5439/dev\") \\\n",
    "    .option(\"dbtable\", \"lsqdataschema\") \\\n",
    "    .option(\"user\", \"awsuser\") \\\n",
    "    .option(\"password\", \"lsqdataschema\") \\\n",
    "    .option(\"aws_iam_role\", \"arn:aws:iam::851725461271:role/glue_to_access_s3\") \\\n",
    "    .option(\"tempdir\", \"s3://redshifttempdirectory/redshift_temp_folder/\") \\\n",
    "    .mode(\"overwrite\") \\\n",
    "    .save() \n"
   ]
  },
  {
   "cell_type": "code",
   "execution_count": null,
   "id": "4f28991b",
   "metadata": {},
   "outputs": [],
   "source": []
  },
  {
   "cell_type": "code",
   "execution_count": null,
   "id": "623f7179",
   "metadata": {},
   "outputs": [],
   "source": []
  },
  {
   "cell_type": "code",
   "execution_count": null,
   "id": "7e714659",
   "metadata": {},
   "outputs": [],
   "source": []
  }
 ],
 "metadata": {
  "kernelspec": {
   "display_name": "Python 3 (ipykernel)",
   "language": "python",
   "name": "python3"
  },
  "language_info": {
   "codemirror_mode": {
    "name": "ipython",
    "version": 3
   },
   "file_extension": ".py",
   "mimetype": "text/x-python",
   "name": "python",
   "nbconvert_exporter": "python",
   "pygments_lexer": "ipython3",
   "version": "3.11.1"
  }
 },
 "nbformat": 4,
 "nbformat_minor": 5
}
